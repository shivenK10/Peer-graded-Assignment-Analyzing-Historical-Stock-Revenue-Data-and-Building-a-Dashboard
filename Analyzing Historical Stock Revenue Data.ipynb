{
 "cells": [
  {
   "cell_type": "code",
   "execution_count": 1,
   "id": "76dc9d62-6cf8-41aa-b721-2219d48feec6",
   "metadata": {},
   "outputs": [
    {
     "ename": "ModuleNotFoundError",
     "evalue": "No module named 'yfinance'",
     "output_type": "error",
     "traceback": [
      "\u001b[0;31m---------------------------------------------------------------------------\u001b[0m",
      "\u001b[0;31mModuleNotFoundError\u001b[0m                       Traceback (most recent call last)",
      "Cell \u001b[0;32mIn[1], line 1\u001b[0m\n\u001b[0;32m----> 1\u001b[0m \u001b[38;5;28;01mimport\u001b[39;00m \u001b[38;5;21;01myfinance\u001b[39;00m \u001b[38;5;28;01mas\u001b[39;00m \u001b[38;5;21;01myf\u001b[39;00m\n\u001b[1;32m      3\u001b[0m \u001b[38;5;66;03m# Extracting Tesla Stock Data\u001b[39;00m\n\u001b[1;32m      4\u001b[0m tesla_data \u001b[38;5;241m=\u001b[39m yf\u001b[38;5;241m.\u001b[39mdownload(\u001b[38;5;124m'\u001b[39m\u001b[38;5;124mTSLA\u001b[39m\u001b[38;5;124m'\u001b[39m, start\u001b[38;5;241m=\u001b[39m\u001b[38;5;124m'\u001b[39m\u001b[38;5;124m2010-01-01\u001b[39m\u001b[38;5;124m'\u001b[39m, end\u001b[38;5;241m=\u001b[39m\u001b[38;5;124m'\u001b[39m\u001b[38;5;124m2021-01-01\u001b[39m\u001b[38;5;124m'\u001b[39m)\n",
      "\u001b[0;31mModuleNotFoundError\u001b[0m: No module named 'yfinance'"
     ]
    }
   ],
   "source": [
    "import yfinance as yf\n",
    "\n",
    "# Extracting Tesla Stock Data\n",
    "tesla_data = yf.download('TSLA', start='2010-01-01', end='2021-01-01')\n",
    "tesla_data.reset_index(inplace=True)\n",
    "print(tesla_data.head())\n"
   ]
  },
  {
   "cell_type": "code",
   "execution_count": null,
   "id": "df26ca41-6db4-4326-97b1-abbc3b0e0efd",
   "metadata": {},
   "outputs": [],
   "source": [
    "import pandas as pd\n",
    "\n",
    "# Example web scraping code (this needs to be customized based on the source)\n",
    "# Assuming tesla_revenue is a dataframe obtained from web scraping\n",
    "tesla_revenue = pd.read_csv('tesla_revenue.csv')\n",
    "print(tesla_revenue.tail())\n"
   ]
  },
  {
   "cell_type": "code",
   "execution_count": null,
   "id": "d2ef04d1-3101-400b-9c55-7b209c0b8a6a",
   "metadata": {},
   "outputs": [],
   "source": [
    "# Extracting GameStop Stock Data\n",
    "gme_data = yf.download('GME', start='2010-01-01', end='2021-01-01')\n",
    "gme_data.reset_index(inplace=True)\n",
    "print(gme_data.head())\n"
   ]
  },
  {
   "cell_type": "code",
   "execution_count": null,
   "id": "734033dc-afc5-4f98-a804-bfc606d8a16a",
   "metadata": {},
   "outputs": [],
   "source": [
    "# Example web scraping code (this needs to be customized based on the source)\n",
    "# Assuming gme_revenue is a dataframe obtained from web scraping\n",
    "gme_revenue = pd.read_csv('gme_revenue.csv')\n",
    "print(gme_revenue.tail())\n"
   ]
  },
  {
   "cell_type": "code",
   "execution_count": null,
   "id": "dfca0928-89f5-4907-a20c-ac4b69cf72b4",
   "metadata": {},
   "outputs": [],
   "source": [
    "import matplotlib.pyplot as plt\n",
    "\n",
    "def make_graph(data, title):\n",
    "    plt.figure(figsize=(10, 5))\n",
    "    plt.plot(data['Date'], data['Close'])\n",
    "    plt.title(title)\n",
    "    plt.xlabel('Date')\n",
    "    plt.ylabel('Close Price USD')\n",
    "    plt.show()\n",
    "\n",
    "make_graph(tesla_data, 'Tesla Stock Price 2010-2020')\n"
   ]
  },
  {
   "cell_type": "code",
   "execution_count": null,
   "id": "1b4bc24c-7e90-4817-a490-7740c649e8f5",
   "metadata": {},
   "outputs": [],
   "source": [
    "make_graph(gme_data, 'GameStop Stock Price 2010-2020')\n"
   ]
  }
 ],
 "metadata": {
  "kernelspec": {
   "display_name": "Python 3 (ipykernel)",
   "language": "python",
   "name": "python3"
  },
  "language_info": {
   "codemirror_mode": {
    "name": "ipython",
    "version": 3
   },
   "file_extension": ".py",
   "mimetype": "text/x-python",
   "name": "python",
   "nbconvert_exporter": "python",
   "pygments_lexer": "ipython3",
   "version": "3.11.7"
  }
 },
 "nbformat": 4,
 "nbformat_minor": 5
}
